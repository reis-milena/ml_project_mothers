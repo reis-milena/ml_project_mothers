{
 "cells": [
  {
   "cell_type": "markdown",
   "metadata": {},
   "source": [
    "# Classification Model for Working mothers after pregnancy"
   ]
  },
  {
   "cell_type": "code",
   "execution_count": 1,
   "metadata": {},
   "outputs": [],
   "source": [
    "import pandas as pd\n",
    "import numpy as np\n",
    "import seaborn as sns\n",
    "import pickle"
   ]
  },
  {
   "cell_type": "markdown",
   "metadata": {},
   "source": [
    "# Parameters Tuning with GridSearch"
   ]
  },
  {
   "cell_type": "code",
   "execution_count": 2,
   "metadata": {},
   "outputs": [],
   "source": [
    "from sklearn.model_selection import GridSearchCV  #cv=cross validation\n",
    "from sklearn.tree            import DecisionTreeClassifier\n",
    "from sklearn.ensemble        import RandomForestClassifier\n",
    "from sklearn.neighbors       import KNeighborsClassifier\n",
    "from sklearn.linear_model    import LogisticRegression\n",
    "from sklearn.svm             import SVC\n",
    "from sklearn.neural_network  import MLPClassifier"
   ]
  },
  {
   "cell_type": "code",
   "execution_count": 33,
   "metadata": {},
   "outputs": [],
   "source": [
    "with open('data_mothers.pkl', mode = 'rb') as f:\n",
    "    X_data_training, Y_data_training, X_data_predict = pickle.load(f)"
   ]
  },
  {
   "cell_type": "code",
   "execution_count": 34,
   "metadata": {},
   "outputs": [
    {
     "data": {
      "text/plain": [
       "((979, 6), (979,), (264, 6))"
      ]
     },
     "execution_count": 34,
     "metadata": {},
     "output_type": "execute_result"
    }
   ],
   "source": [
    "X_data_training.shape, Y_data_training.shape, X_data_predict.shape"
   ]
  },
  {
   "cell_type": "code",
   "execution_count": 67,
   "metadata": {},
   "outputs": [
    {
     "data": {
      "text/plain": [
       "(array([0., 1.]), array([388, 591], dtype=int64))"
      ]
     },
     "execution_count": 67,
     "metadata": {},
     "output_type": "execute_result"
    }
   ],
   "source": [
    "np.unique(Y_data_training, return_counts=True)"
   ]
  },
  {
   "cell_type": "markdown",
   "metadata": {},
   "source": [
    "## Decision tree"
   ]
  },
  {
   "cell_type": "code",
   "execution_count": 35,
   "metadata": {},
   "outputs": [],
   "source": [
    "parameters = {'criterion': ['gini','entropy'],\n",
    "              'splitter': ['best','random'],\n",
    "              'min_samples_split': [2,5,10],\n",
    "              'min_samples_leaf' : [1,5,10]}"
   ]
  },
  {
   "cell_type": "code",
   "execution_count": 36,
   "metadata": {},
   "outputs": [],
   "source": [
    "grid_search = GridSearchCV(estimator = DecisionTreeClassifier(),\n",
    "                           param_grid = parameters) #it will test all combinations of parameters\n",
    "grid_search.fit(X_data_training, Y_data_training)\n",
    "best_parameters = grid_search.best_params_\n",
    "best_result = grid_search.best_score_"
   ]
  },
  {
   "cell_type": "code",
   "execution_count": 37,
   "metadata": {},
   "outputs": [
    {
     "name": "stdout",
     "output_type": "stream",
     "text": [
      "{'criterion': 'gini', 'min_samples_leaf': 5, 'min_samples_split': 5, 'splitter': 'random'}\n",
      "0.6710779696493983\n"
     ]
    },
    {
     "data": {
      "text/plain": [
       "(None, None)"
      ]
     },
     "execution_count": 37,
     "metadata": {},
     "output_type": "execute_result"
    }
   ],
   "source": [
    "print(best_parameters) , print(best_result)"
   ]
  },
  {
   "cell_type": "markdown",
   "metadata": {},
   "source": [
    "## Random Forest"
   ]
  },
  {
   "cell_type": "code",
   "execution_count": 38,
   "metadata": {},
   "outputs": [],
   "source": [
    "parameters = {'criterion': ['gini','entropy'],\n",
    "              'n_estimators': [10,40,100,150],\n",
    "              'min_samples_split': [2,5,10],\n",
    "              'min_samples_leaf' : [1,5,10]}"
   ]
  },
  {
   "cell_type": "code",
   "execution_count": 39,
   "metadata": {},
   "outputs": [],
   "source": [
    "grid_search = GridSearchCV(estimator = RandomForestClassifier(),\n",
    "                           param_grid = parameters) #it will test all combinations of parameters\n",
    "grid_search.fit(X_data_training, Y_data_training)\n",
    "best_parameters = grid_search.best_params_\n",
    "best_result = grid_search.best_score_"
   ]
  },
  {
   "cell_type": "code",
   "execution_count": 40,
   "metadata": {},
   "outputs": [
    {
     "name": "stdout",
     "output_type": "stream",
     "text": [
      "{'criterion': 'entropy', 'min_samples_leaf': 5, 'min_samples_split': 2, 'n_estimators': 10}\n",
      "0.6731344845630559\n"
     ]
    },
    {
     "data": {
      "text/plain": [
       "(None, None)"
      ]
     },
     "execution_count": 40,
     "metadata": {},
     "output_type": "execute_result"
    }
   ],
   "source": [
    "print(best_parameters) , print(best_result)"
   ]
  },
  {
   "cell_type": "markdown",
   "metadata": {},
   "source": [
    "## KNN"
   ]
  },
  {
   "cell_type": "code",
   "execution_count": 41,
   "metadata": {},
   "outputs": [],
   "source": [
    "parameters = {'n_neighbors': [3,5,10,20],\n",
    "              'p': [1,2]}"
   ]
  },
  {
   "cell_type": "code",
   "execution_count": 42,
   "metadata": {},
   "outputs": [],
   "source": [
    "grid_search = GridSearchCV(estimator = KNeighborsClassifier(),\n",
    "                           param_grid = parameters) #it will test all combinations of parameters\n",
    "grid_search.fit(X_data_training, Y_data_training)\n",
    "best_parameters = grid_search.best_params_\n",
    "best_result = grid_search.best_score_"
   ]
  },
  {
   "cell_type": "code",
   "execution_count": 43,
   "metadata": {},
   "outputs": [
    {
     "name": "stdout",
     "output_type": "stream",
     "text": [
      "{'n_neighbors': 20, 'p': 1}\n",
      "0.678226059654631\n"
     ]
    },
    {
     "data": {
      "text/plain": [
       "(None, None)"
      ]
     },
     "execution_count": 43,
     "metadata": {},
     "output_type": "execute_result"
    }
   ],
   "source": [
    "print(best_parameters) , print(best_result)"
   ]
  },
  {
   "cell_type": "markdown",
   "metadata": {},
   "source": [
    "## Logistic Regression"
   ]
  },
  {
   "cell_type": "code",
   "execution_count": 44,
   "metadata": {},
   "outputs": [],
   "source": [
    "parameters = {'tol': [0.0001,0.00001,0.000001],\n",
    "              'C': [1.0,1.5,2.0],\n",
    "              'solver' :['lbfgs','sag','saga']}"
   ]
  },
  {
   "cell_type": "code",
   "execution_count": 45,
   "metadata": {},
   "outputs": [],
   "source": [
    "grid_search = GridSearchCV(estimator = LogisticRegression(),\n",
    "                           param_grid = parameters) #it will test all combinations of parameters\n",
    "grid_search.fit(X_data_training,Y_data_training)\n",
    "best_parameters = grid_search.best_params_\n",
    "best_result = grid_search.best_score_"
   ]
  },
  {
   "cell_type": "code",
   "execution_count": 46,
   "metadata": {},
   "outputs": [
    {
     "name": "stdout",
     "output_type": "stream",
     "text": [
      "{'C': 1.0, 'solver': 'lbfgs', 'tol': 0.0001}\n",
      "0.6730978545264259\n"
     ]
    },
    {
     "data": {
      "text/plain": [
       "(None, None)"
      ]
     },
     "execution_count": 46,
     "metadata": {},
     "output_type": "execute_result"
    }
   ],
   "source": [
    "print(best_parameters) , print(best_result)"
   ]
  },
  {
   "cell_type": "markdown",
   "metadata": {},
   "source": [
    "## SVM"
   ]
  },
  {
   "cell_type": "code",
   "execution_count": 52,
   "metadata": {},
   "outputs": [],
   "source": [
    "parameters = {'tol': [0.001,0.0001,0.00001],\n",
    "              'C': [1.0,1.5,2.0],\n",
    "              'kernel' :['rbf','linear','poly','sigmoid']}"
   ]
  },
  {
   "cell_type": "code",
   "execution_count": 53,
   "metadata": {},
   "outputs": [],
   "source": [
    "grid_search = GridSearchCV(estimator = SVC(),\n",
    "                           param_grid = parameters) #it will test all combinations of parameters\n",
    "grid_search.fit(X_data_training,Y_data_training)\n",
    "best_parameters = grid_search.best_params_\n",
    "best_result = grid_search.best_score_"
   ]
  },
  {
   "cell_type": "code",
   "execution_count": 54,
   "metadata": {},
   "outputs": [
    {
     "name": "stdout",
     "output_type": "stream",
     "text": [
      "{'C': 2.0, 'kernel': 'rbf', 'tol': 0.001}\n",
      "0.675149136577708\n"
     ]
    },
    {
     "data": {
      "text/plain": [
       "(None, None)"
      ]
     },
     "execution_count": 54,
     "metadata": {},
     "output_type": "execute_result"
    }
   ],
   "source": [
    "print(best_parameters) , print(best_result)"
   ]
  },
  {
   "cell_type": "markdown",
   "metadata": {},
   "source": [
    "## Neural Network"
   ]
  },
  {
   "cell_type": "code",
   "execution_count": 49,
   "metadata": {},
   "outputs": [],
   "source": [
    "parameters = {'activation': ['relu','logistic','tanh'],\n",
    "              'solver': ['adam','sgd'],\n",
    "              'batch_size' :[10,56]}"
   ]
  },
  {
   "cell_type": "code",
   "execution_count": 50,
   "metadata": {},
   "outputs": [
    {
     "name": "stderr",
     "output_type": "stream",
     "text": [
      "C:\\Users\\ville\\AppData\\Roaming\\Python\\Python311\\site-packages\\sklearn\\neural_network\\_multilayer_perceptron.py:691: ConvergenceWarning: Stochastic Optimizer: Maximum iterations (200) reached and the optimization hasn't converged yet.\n",
      "  warnings.warn(\n",
      "C:\\Users\\ville\\AppData\\Roaming\\Python\\Python311\\site-packages\\sklearn\\neural_network\\_multilayer_perceptron.py:691: ConvergenceWarning: Stochastic Optimizer: Maximum iterations (200) reached and the optimization hasn't converged yet.\n",
      "  warnings.warn(\n",
      "C:\\Users\\ville\\AppData\\Roaming\\Python\\Python311\\site-packages\\sklearn\\neural_network\\_multilayer_perceptron.py:691: ConvergenceWarning: Stochastic Optimizer: Maximum iterations (200) reached and the optimization hasn't converged yet.\n",
      "  warnings.warn(\n",
      "C:\\Users\\ville\\AppData\\Roaming\\Python\\Python311\\site-packages\\sklearn\\neural_network\\_multilayer_perceptron.py:691: ConvergenceWarning: Stochastic Optimizer: Maximum iterations (200) reached and the optimization hasn't converged yet.\n",
      "  warnings.warn(\n",
      "C:\\Users\\ville\\AppData\\Roaming\\Python\\Python311\\site-packages\\sklearn\\neural_network\\_multilayer_perceptron.py:691: ConvergenceWarning: Stochastic Optimizer: Maximum iterations (200) reached and the optimization hasn't converged yet.\n",
      "  warnings.warn(\n",
      "C:\\Users\\ville\\AppData\\Roaming\\Python\\Python311\\site-packages\\sklearn\\neural_network\\_multilayer_perceptron.py:691: ConvergenceWarning: Stochastic Optimizer: Maximum iterations (200) reached and the optimization hasn't converged yet.\n",
      "  warnings.warn(\n",
      "C:\\Users\\ville\\AppData\\Roaming\\Python\\Python311\\site-packages\\sklearn\\neural_network\\_multilayer_perceptron.py:691: ConvergenceWarning: Stochastic Optimizer: Maximum iterations (200) reached and the optimization hasn't converged yet.\n",
      "  warnings.warn(\n",
      "C:\\Users\\ville\\AppData\\Roaming\\Python\\Python311\\site-packages\\sklearn\\neural_network\\_multilayer_perceptron.py:691: ConvergenceWarning: Stochastic Optimizer: Maximum iterations (200) reached and the optimization hasn't converged yet.\n",
      "  warnings.warn(\n",
      "C:\\Users\\ville\\AppData\\Roaming\\Python\\Python311\\site-packages\\sklearn\\neural_network\\_multilayer_perceptron.py:691: ConvergenceWarning: Stochastic Optimizer: Maximum iterations (200) reached and the optimization hasn't converged yet.\n",
      "  warnings.warn(\n",
      "C:\\Users\\ville\\AppData\\Roaming\\Python\\Python311\\site-packages\\sklearn\\neural_network\\_multilayer_perceptron.py:691: ConvergenceWarning: Stochastic Optimizer: Maximum iterations (200) reached and the optimization hasn't converged yet.\n",
      "  warnings.warn(\n"
     ]
    }
   ],
   "source": [
    "grid_search = GridSearchCV(estimator = MLPClassifier(),\n",
    "                           param_grid = parameters) #it will test all combinations of parameters\n",
    "grid_search.fit(X_data_training, Y_data_training)\n",
    "best_parameters = grid_search.best_params_\n",
    "best_result = grid_search.best_score_"
   ]
  },
  {
   "cell_type": "code",
   "execution_count": 51,
   "metadata": {},
   "outputs": [
    {
     "name": "stdout",
     "output_type": "stream",
     "text": [
      "{'activation': 'tanh', 'batch_size': 10, 'solver': 'adam'}\n",
      "0.6741287284144428\n"
     ]
    },
    {
     "data": {
      "text/plain": [
       "(None, None)"
      ]
     },
     "execution_count": 51,
     "metadata": {},
     "output_type": "execute_result"
    }
   ],
   "source": [
    "print(best_parameters) , print(best_result)"
   ]
  },
  {
   "cell_type": "markdown",
   "metadata": {},
   "source": [
    "# Cross Validation"
   ]
  },
  {
   "cell_type": "code",
   "execution_count": 56,
   "metadata": {},
   "outputs": [],
   "source": [
    "from sklearn.model_selection import cross_val_score, KFold"
   ]
  },
  {
   "cell_type": "code",
   "execution_count": 57,
   "metadata": {},
   "outputs": [
    {
     "name": "stdout",
     "output_type": "stream",
     "text": [
      "0\n",
      "1\n",
      "2\n",
      "3\n",
      "4\n",
      "5\n",
      "6\n",
      "7\n",
      "8\n",
      "9\n",
      "10\n",
      "11\n",
      "12\n",
      "13\n",
      "14\n",
      "15\n",
      "16\n",
      "17\n",
      "18\n",
      "19\n",
      "20\n",
      "21\n",
      "22\n",
      "23\n",
      "24\n",
      "25\n",
      "26\n",
      "27\n",
      "28\n",
      "29\n"
     ]
    }
   ],
   "source": [
    "dec_tree_results   = []\n",
    "random_f_results   = []\n",
    "knn_results        = []\n",
    "logistic_results   = []\n",
    "svm_results        = []\n",
    "neural_net_results = []\n",
    "\n",
    "for i in range(30): #30 is very common\n",
    "    print(i)\n",
    "    kfold = KFold(n_splits = 10, shuffle = True, random_state = i)\n",
    "    #results found on Tuning with GridSearch\n",
    "    #{'criterion': 'gini', 'min_samples_leaf': 5, 'min_samples_split': 5, 'splitter': 'random'}\n",
    "    tree_decision = DecisionTreeClassifier(criterion='gini',\n",
    "                                           min_samples_leaf=5,\n",
    "                                           min_samples_split=5,\n",
    "                                           splitter='random')\n",
    "    score = cross_val_score(tree_decision,X_data_training,Y_data_training, cv=kfold)\n",
    "    dec_tree_results.append(score.mean())\n",
    "    ##################################################################################\n",
    "    #{'criterion': 'entropy', 'min_samples_leaf': 5, 'min_samples_split': 2, 'n_estimators': 10}\n",
    "    random_f = RandomForestClassifier(criterion='entropy',\n",
    "                                      min_samples_leaf=5,\n",
    "                                      min_samples_split=2,\n",
    "                                      n_estimators=10)\n",
    "    score = cross_val_score(random_f,X_data_training,Y_data_training, cv=kfold)\n",
    "    random_f_results.append(score.mean())\n",
    "    ##################################################################################\n",
    "    #{'n_neighbors': 20, 'p': 1}\n",
    "    knn = KNeighborsClassifier(n_neighbors=20,\n",
    "                               p = 1)\n",
    "    score = cross_val_score(knn,X_data_training,Y_data_training, cv=kfold)\n",
    "    knn_results.append(score.mean())\n",
    "    ##################################################################################\n",
    "    #{'C': 1.0, 'solver': 'lbfgs', 'tol': 0.0001}\n",
    "    logistic = LogisticRegression(C=1.0,\n",
    "                                  solver ='lbfgs',\n",
    "                                  tol = 0.0001)\n",
    "    score = cross_val_score(logistic,X_data_training,Y_data_training, cv=kfold)\n",
    "    logistic_results.append(score.mean())\n",
    "    ##################################################################################\n",
    "    #{'C': 2.0, 'kernel': 'rbf', 'tol': 0.001}\n",
    "    svm = SVC(C =2.0,\n",
    "              kernel = 'rbf',\n",
    "              tol = 0.001)\n",
    "    score = cross_val_score(svm,X_data_training,Y_data_training, cv=kfold)\n",
    "    svm_results.append(score.mean())\n",
    "    ##################################################################################\n",
    "    #{'activation': 'tanh', 'batch_size': 10, 'solver': 'adam'}\n",
    "    neura_network = MLPClassifier(activation='tanh',\n",
    "                                  batch_size= 10,\n",
    "                                  solver= 'adam')\n",
    "    score = cross_val_score(neura_network,X_data_training,Y_data_training, cv=kfold)\n",
    "    neural_net_results.append(score.mean())"
   ]
  },
  {
   "cell_type": "code",
   "execution_count": 58,
   "metadata": {},
   "outputs": [
    {
     "data": {
      "text/html": [
       "<div>\n",
       "<style scoped>\n",
       "    .dataframe tbody tr th:only-of-type {\n",
       "        vertical-align: middle;\n",
       "    }\n",
       "\n",
       "    .dataframe tbody tr th {\n",
       "        vertical-align: top;\n",
       "    }\n",
       "\n",
       "    .dataframe thead th {\n",
       "        text-align: right;\n",
       "    }\n",
       "</style>\n",
       "<table border=\"1\" class=\"dataframe\">\n",
       "  <thead>\n",
       "    <tr style=\"text-align: right;\">\n",
       "      <th></th>\n",
       "      <th>Decision Tree</th>\n",
       "      <th>Random Forest</th>\n",
       "      <th>KNN</th>\n",
       "      <th>Logistic Regression</th>\n",
       "      <th>SVM</th>\n",
       "      <th>Neural Network</th>\n",
       "    </tr>\n",
       "  </thead>\n",
       "  <tbody>\n",
       "    <tr>\n",
       "      <th>0</th>\n",
       "      <td>0.656775</td>\n",
       "      <td>0.680297</td>\n",
       "      <td>0.666021</td>\n",
       "      <td>0.662887</td>\n",
       "      <td>0.661887</td>\n",
       "      <td>0.663928</td>\n",
       "    </tr>\n",
       "    <tr>\n",
       "      <th>1</th>\n",
       "      <td>0.632369</td>\n",
       "      <td>0.647633</td>\n",
       "      <td>0.655817</td>\n",
       "      <td>0.662950</td>\n",
       "      <td>0.639470</td>\n",
       "      <td>0.672144</td>\n",
       "    </tr>\n",
       "    <tr>\n",
       "      <th>2</th>\n",
       "      <td>0.646560</td>\n",
       "      <td>0.654702</td>\n",
       "      <td>0.668010</td>\n",
       "      <td>0.665906</td>\n",
       "      <td>0.652640</td>\n",
       "      <td>0.664885</td>\n",
       "    </tr>\n",
       "    <tr>\n",
       "      <th>3</th>\n",
       "      <td>0.652609</td>\n",
       "      <td>0.648548</td>\n",
       "      <td>0.658763</td>\n",
       "      <td>0.667926</td>\n",
       "      <td>0.647517</td>\n",
       "      <td>0.666895</td>\n",
       "    </tr>\n",
       "    <tr>\n",
       "      <th>4</th>\n",
       "      <td>0.643551</td>\n",
       "      <td>0.659888</td>\n",
       "      <td>0.661940</td>\n",
       "      <td>0.669072</td>\n",
       "      <td>0.655849</td>\n",
       "      <td>0.666011</td>\n",
       "    </tr>\n",
       "    <tr>\n",
       "      <th>5</th>\n",
       "      <td>0.646550</td>\n",
       "      <td>0.655796</td>\n",
       "      <td>0.666979</td>\n",
       "      <td>0.677183</td>\n",
       "      <td>0.648601</td>\n",
       "      <td>0.674111</td>\n",
       "    </tr>\n",
       "    <tr>\n",
       "      <th>6</th>\n",
       "      <td>0.654713</td>\n",
       "      <td>0.663865</td>\n",
       "      <td>0.658784</td>\n",
       "      <td>0.675142</td>\n",
       "      <td>0.662908</td>\n",
       "      <td>0.671060</td>\n",
       "    </tr>\n",
       "    <tr>\n",
       "      <th>7</th>\n",
       "      <td>0.652661</td>\n",
       "      <td>0.658815</td>\n",
       "      <td>0.673101</td>\n",
       "      <td>0.671102</td>\n",
       "      <td>0.651641</td>\n",
       "      <td>0.668010</td>\n",
       "    </tr>\n",
       "    <tr>\n",
       "      <th>8</th>\n",
       "      <td>0.657753</td>\n",
       "      <td>0.664917</td>\n",
       "      <td>0.673070</td>\n",
       "      <td>0.669051</td>\n",
       "      <td>0.672123</td>\n",
       "      <td>0.669051</td>\n",
       "    </tr>\n",
       "    <tr>\n",
       "      <th>9</th>\n",
       "      <td>0.649684</td>\n",
       "      <td>0.652756</td>\n",
       "      <td>0.657816</td>\n",
       "      <td>0.666011</td>\n",
       "      <td>0.641542</td>\n",
       "      <td>0.673185</td>\n",
       "    </tr>\n",
       "    <tr>\n",
       "      <th>10</th>\n",
       "      <td>0.654734</td>\n",
       "      <td>0.661919</td>\n",
       "      <td>0.669072</td>\n",
       "      <td>0.660888</td>\n",
       "      <td>0.658794</td>\n",
       "      <td>0.672133</td>\n",
       "    </tr>\n",
       "    <tr>\n",
       "      <th>11</th>\n",
       "      <td>0.642468</td>\n",
       "      <td>0.640385</td>\n",
       "      <td>0.667000</td>\n",
       "      <td>0.672112</td>\n",
       "      <td>0.658826</td>\n",
       "      <td>0.671071</td>\n",
       "    </tr>\n",
       "    <tr>\n",
       "      <th>12</th>\n",
       "      <td>0.651683</td>\n",
       "      <td>0.643520</td>\n",
       "      <td>0.657764</td>\n",
       "      <td>0.671050</td>\n",
       "      <td>0.666958</td>\n",
       "      <td>0.671050</td>\n",
       "    </tr>\n",
       "    <tr>\n",
       "      <th>13</th>\n",
       "      <td>0.656827</td>\n",
       "      <td>0.649642</td>\n",
       "      <td>0.669104</td>\n",
       "      <td>0.674195</td>\n",
       "      <td>0.653745</td>\n",
       "      <td>0.669093</td>\n",
       "    </tr>\n",
       "    <tr>\n",
       "      <th>14</th>\n",
       "      <td>0.645624</td>\n",
       "      <td>0.649705</td>\n",
       "      <td>0.663970</td>\n",
       "      <td>0.660888</td>\n",
       "      <td>0.638428</td>\n",
       "      <td>0.657785</td>\n",
       "    </tr>\n",
       "    <tr>\n",
       "      <th>15</th>\n",
       "      <td>0.651736</td>\n",
       "      <td>0.661929</td>\n",
       "      <td>0.664948</td>\n",
       "      <td>0.661908</td>\n",
       "      <td>0.657837</td>\n",
       "      <td>0.663981</td>\n",
       "    </tr>\n",
       "    <tr>\n",
       "      <th>16</th>\n",
       "      <td>0.658868</td>\n",
       "      <td>0.647633</td>\n",
       "      <td>0.658900</td>\n",
       "      <td>0.672165</td>\n",
       "      <td>0.659899</td>\n",
       "      <td>0.666979</td>\n",
       "    </tr>\n",
       "    <tr>\n",
       "      <th>17</th>\n",
       "      <td>0.646518</td>\n",
       "      <td>0.662866</td>\n",
       "      <td>0.675131</td>\n",
       "      <td>0.664938</td>\n",
       "      <td>0.659804</td>\n",
       "      <td>0.674111</td>\n",
       "    </tr>\n",
       "    <tr>\n",
       "      <th>18</th>\n",
       "      <td>0.663886</td>\n",
       "      <td>0.665948</td>\n",
       "      <td>0.675131</td>\n",
       "      <td>0.675110</td>\n",
       "      <td>0.656733</td>\n",
       "      <td>0.662866</td>\n",
       "    </tr>\n",
       "    <tr>\n",
       "      <th>19</th>\n",
       "      <td>0.654650</td>\n",
       "      <td>0.651610</td>\n",
       "      <td>0.666926</td>\n",
       "      <td>0.663865</td>\n",
       "      <td>0.652640</td>\n",
       "      <td>0.666937</td>\n",
       "    </tr>\n",
       "    <tr>\n",
       "      <th>20</th>\n",
       "      <td>0.644456</td>\n",
       "      <td>0.656722</td>\n",
       "      <td>0.670987</td>\n",
       "      <td>0.663823</td>\n",
       "      <td>0.659762</td>\n",
       "      <td>0.666895</td>\n",
       "    </tr>\n",
       "    <tr>\n",
       "      <th>21</th>\n",
       "      <td>0.654818</td>\n",
       "      <td>0.652777</td>\n",
       "      <td>0.662981</td>\n",
       "      <td>0.659952</td>\n",
       "      <td>0.654850</td>\n",
       "      <td>0.660961</td>\n",
       "    </tr>\n",
       "    <tr>\n",
       "      <th>22</th>\n",
       "      <td>0.665927</td>\n",
       "      <td>0.660804</td>\n",
       "      <td>0.667957</td>\n",
       "      <td>0.674111</td>\n",
       "      <td>0.662855</td>\n",
       "      <td>0.672060</td>\n",
       "    </tr>\n",
       "    <tr>\n",
       "      <th>23</th>\n",
       "      <td>0.655712</td>\n",
       "      <td>0.652661</td>\n",
       "      <td>0.663939</td>\n",
       "      <td>0.669051</td>\n",
       "      <td>0.656775</td>\n",
       "      <td>0.668031</td>\n",
       "    </tr>\n",
       "    <tr>\n",
       "      <th>24</th>\n",
       "      <td>0.652714</td>\n",
       "      <td>0.652704</td>\n",
       "      <td>0.659825</td>\n",
       "      <td>0.665001</td>\n",
       "      <td>0.663939</td>\n",
       "      <td>0.671060</td>\n",
       "    </tr>\n",
       "    <tr>\n",
       "      <th>25</th>\n",
       "      <td>0.659878</td>\n",
       "      <td>0.652756</td>\n",
       "      <td>0.666021</td>\n",
       "      <td>0.674195</td>\n",
       "      <td>0.660919</td>\n",
       "      <td>0.674206</td>\n",
       "    </tr>\n",
       "    <tr>\n",
       "      <th>26</th>\n",
       "      <td>0.648664</td>\n",
       "      <td>0.659878</td>\n",
       "      <td>0.662971</td>\n",
       "      <td>0.668073</td>\n",
       "      <td>0.652756</td>\n",
       "      <td>0.674206</td>\n",
       "    </tr>\n",
       "    <tr>\n",
       "      <th>27</th>\n",
       "      <td>0.659836</td>\n",
       "      <td>0.661898</td>\n",
       "      <td>0.669020</td>\n",
       "      <td>0.669009</td>\n",
       "      <td>0.660867</td>\n",
       "      <td>0.665979</td>\n",
       "    </tr>\n",
       "    <tr>\n",
       "      <th>28</th>\n",
       "      <td>0.645582</td>\n",
       "      <td>0.654776</td>\n",
       "      <td>0.660877</td>\n",
       "      <td>0.666021</td>\n",
       "      <td>0.644551</td>\n",
       "      <td>0.670093</td>\n",
       "    </tr>\n",
       "    <tr>\n",
       "      <th>29</th>\n",
       "      <td>0.648548</td>\n",
       "      <td>0.653671</td>\n",
       "      <td>0.665916</td>\n",
       "      <td>0.665895</td>\n",
       "      <td>0.652630</td>\n",
       "      <td>0.656701</td>\n",
       "    </tr>\n",
       "  </tbody>\n",
       "</table>\n",
       "</div>"
      ],
      "text/plain": [
       "    Decision Tree  Random Forest       KNN  Logistic Regression       SVM  \\\n",
       "0        0.656775       0.680297  0.666021             0.662887  0.661887   \n",
       "1        0.632369       0.647633  0.655817             0.662950  0.639470   \n",
       "2        0.646560       0.654702  0.668010             0.665906  0.652640   \n",
       "3        0.652609       0.648548  0.658763             0.667926  0.647517   \n",
       "4        0.643551       0.659888  0.661940             0.669072  0.655849   \n",
       "5        0.646550       0.655796  0.666979             0.677183  0.648601   \n",
       "6        0.654713       0.663865  0.658784             0.675142  0.662908   \n",
       "7        0.652661       0.658815  0.673101             0.671102  0.651641   \n",
       "8        0.657753       0.664917  0.673070             0.669051  0.672123   \n",
       "9        0.649684       0.652756  0.657816             0.666011  0.641542   \n",
       "10       0.654734       0.661919  0.669072             0.660888  0.658794   \n",
       "11       0.642468       0.640385  0.667000             0.672112  0.658826   \n",
       "12       0.651683       0.643520  0.657764             0.671050  0.666958   \n",
       "13       0.656827       0.649642  0.669104             0.674195  0.653745   \n",
       "14       0.645624       0.649705  0.663970             0.660888  0.638428   \n",
       "15       0.651736       0.661929  0.664948             0.661908  0.657837   \n",
       "16       0.658868       0.647633  0.658900             0.672165  0.659899   \n",
       "17       0.646518       0.662866  0.675131             0.664938  0.659804   \n",
       "18       0.663886       0.665948  0.675131             0.675110  0.656733   \n",
       "19       0.654650       0.651610  0.666926             0.663865  0.652640   \n",
       "20       0.644456       0.656722  0.670987             0.663823  0.659762   \n",
       "21       0.654818       0.652777  0.662981             0.659952  0.654850   \n",
       "22       0.665927       0.660804  0.667957             0.674111  0.662855   \n",
       "23       0.655712       0.652661  0.663939             0.669051  0.656775   \n",
       "24       0.652714       0.652704  0.659825             0.665001  0.663939   \n",
       "25       0.659878       0.652756  0.666021             0.674195  0.660919   \n",
       "26       0.648664       0.659878  0.662971             0.668073  0.652756   \n",
       "27       0.659836       0.661898  0.669020             0.669009  0.660867   \n",
       "28       0.645582       0.654776  0.660877             0.666021  0.644551   \n",
       "29       0.648548       0.653671  0.665916             0.665895  0.652630   \n",
       "\n",
       "    Neural Network  \n",
       "0         0.663928  \n",
       "1         0.672144  \n",
       "2         0.664885  \n",
       "3         0.666895  \n",
       "4         0.666011  \n",
       "5         0.674111  \n",
       "6         0.671060  \n",
       "7         0.668010  \n",
       "8         0.669051  \n",
       "9         0.673185  \n",
       "10        0.672133  \n",
       "11        0.671071  \n",
       "12        0.671050  \n",
       "13        0.669093  \n",
       "14        0.657785  \n",
       "15        0.663981  \n",
       "16        0.666979  \n",
       "17        0.674111  \n",
       "18        0.662866  \n",
       "19        0.666937  \n",
       "20        0.666895  \n",
       "21        0.660961  \n",
       "22        0.672060  \n",
       "23        0.668031  \n",
       "24        0.671060  \n",
       "25        0.674206  \n",
       "26        0.674206  \n",
       "27        0.665979  \n",
       "28        0.670093  \n",
       "29        0.656701  "
      ]
     },
     "execution_count": 58,
     "metadata": {},
     "output_type": "execute_result"
    }
   ],
   "source": [
    "results = pd.DataFrame({\"Decision Tree\": dec_tree_results,\n",
    "                        'Random Forest': random_f_results,\n",
    "                        \"KNN\": knn_results,\n",
    "                        \"Logistic Regression\": logistic_results,\n",
    "                        'SVM': svm_results,\n",
    "                        'Neural Network': neural_net_results\n",
    "                        })\n",
    "results"
   ]
  },
  {
   "cell_type": "code",
   "execution_count": 59,
   "metadata": {},
   "outputs": [
    {
     "data": {
      "text/html": [
       "<div>\n",
       "<style scoped>\n",
       "    .dataframe tbody tr th:only-of-type {\n",
       "        vertical-align: middle;\n",
       "    }\n",
       "\n",
       "    .dataframe tbody tr th {\n",
       "        vertical-align: top;\n",
       "    }\n",
       "\n",
       "    .dataframe thead th {\n",
       "        text-align: right;\n",
       "    }\n",
       "</style>\n",
       "<table border=\"1\" class=\"dataframe\">\n",
       "  <thead>\n",
       "    <tr style=\"text-align: right;\">\n",
       "      <th></th>\n",
       "      <th>Decision Tree</th>\n",
       "      <th>Random Forest</th>\n",
       "      <th>KNN</th>\n",
       "      <th>Logistic Regression</th>\n",
       "      <th>SVM</th>\n",
       "      <th>Neural Network</th>\n",
       "    </tr>\n",
       "  </thead>\n",
       "  <tbody>\n",
       "    <tr>\n",
       "      <th>count</th>\n",
       "      <td>30.000000</td>\n",
       "      <td>30.000000</td>\n",
       "      <td>30.000000</td>\n",
       "      <td>30.000000</td>\n",
       "      <td>30.000000</td>\n",
       "      <td>30.000000</td>\n",
       "    </tr>\n",
       "    <tr>\n",
       "      <th>mean</th>\n",
       "      <td>0.651878</td>\n",
       "      <td>0.656034</td>\n",
       "      <td>0.665291</td>\n",
       "      <td>0.667983</td>\n",
       "      <td>0.655592</td>\n",
       "      <td>0.668183</td>\n",
       "    </tr>\n",
       "    <tr>\n",
       "      <th>std</th>\n",
       "      <td>0.007031</td>\n",
       "      <td>0.007880</td>\n",
       "      <td>0.005311</td>\n",
       "      <td>0.004849</td>\n",
       "      <td>0.007874</td>\n",
       "      <td>0.004681</td>\n",
       "    </tr>\n",
       "    <tr>\n",
       "      <th>min</th>\n",
       "      <td>0.632369</td>\n",
       "      <td>0.640385</td>\n",
       "      <td>0.655817</td>\n",
       "      <td>0.659952</td>\n",
       "      <td>0.638428</td>\n",
       "      <td>0.656701</td>\n",
       "    </tr>\n",
       "    <tr>\n",
       "      <th>25%</th>\n",
       "      <td>0.646552</td>\n",
       "      <td>0.651873</td>\n",
       "      <td>0.661143</td>\n",
       "      <td>0.664133</td>\n",
       "      <td>0.652633</td>\n",
       "      <td>0.665987</td>\n",
       "    </tr>\n",
       "    <tr>\n",
       "      <th>50%</th>\n",
       "      <td>0.652635</td>\n",
       "      <td>0.654739</td>\n",
       "      <td>0.665969</td>\n",
       "      <td>0.667999</td>\n",
       "      <td>0.656754</td>\n",
       "      <td>0.668541</td>\n",
       "    </tr>\n",
       "    <tr>\n",
       "      <th>75%</th>\n",
       "      <td>0.656509</td>\n",
       "      <td>0.661624</td>\n",
       "      <td>0.668767</td>\n",
       "      <td>0.671860</td>\n",
       "      <td>0.660625</td>\n",
       "      <td>0.671813</td>\n",
       "    </tr>\n",
       "    <tr>\n",
       "      <th>max</th>\n",
       "      <td>0.665927</td>\n",
       "      <td>0.680297</td>\n",
       "      <td>0.675131</td>\n",
       "      <td>0.677183</td>\n",
       "      <td>0.672123</td>\n",
       "      <td>0.674206</td>\n",
       "    </tr>\n",
       "  </tbody>\n",
       "</table>\n",
       "</div>"
      ],
      "text/plain": [
       "       Decision Tree  Random Forest        KNN  Logistic Regression  \\\n",
       "count      30.000000      30.000000  30.000000            30.000000   \n",
       "mean        0.651878       0.656034   0.665291             0.667983   \n",
       "std         0.007031       0.007880   0.005311             0.004849   \n",
       "min         0.632369       0.640385   0.655817             0.659952   \n",
       "25%         0.646552       0.651873   0.661143             0.664133   \n",
       "50%         0.652635       0.654739   0.665969             0.667999   \n",
       "75%         0.656509       0.661624   0.668767             0.671860   \n",
       "max         0.665927       0.680297   0.675131             0.677183   \n",
       "\n",
       "             SVM  Neural Network  \n",
       "count  30.000000       30.000000  \n",
       "mean    0.655592        0.668183  \n",
       "std     0.007874        0.004681  \n",
       "min     0.638428        0.656701  \n",
       "25%     0.652633        0.665987  \n",
       "50%     0.656754        0.668541  \n",
       "75%     0.660625        0.671813  \n",
       "max     0.672123        0.674206  "
      ]
     },
     "execution_count": 59,
     "metadata": {},
     "output_type": "execute_result"
    }
   ],
   "source": [
    "results.describe()"
   ]
  },
  {
   "cell_type": "markdown",
   "metadata": {},
   "source": [
    "# Normality test"
   ]
  },
  {
   "cell_type": "code",
   "execution_count": 60,
   "metadata": {},
   "outputs": [],
   "source": [
    "from scipy.stats import shapiro"
   ]
  },
  {
   "cell_type": "code",
   "execution_count": 61,
   "metadata": {},
   "outputs": [
    {
     "data": {
      "text/plain": [
       "(ShapiroResult(statistic=0.9756958057031239, pvalue=0.7032287341692791),\n",
       " ShapiroResult(statistic=0.953816962803476, pvalue=0.21368865381427982),\n",
       " ShapiroResult(statistic=0.9686306774828015, pvalue=0.5024204472982673),\n",
       " ShapiroResult(statistic=0.9617442286514929, pvalue=0.34299621275020814),\n",
       " ShapiroResult(statistic=0.9643838432106665, pvalue=0.3987946394238008),\n",
       " ShapiroResult(statistic=0.9356476429626401, pvalue=0.06948007508054126))"
      ]
     },
     "execution_count": 61,
     "metadata": {},
     "output_type": "execute_result"
    }
   ],
   "source": [
    "alpha = 0.05\n",
    "shapiro(dec_tree_results), shapiro(random_f_results), shapiro(knn_results), shapiro(logistic_results), shapiro(svm_results), shapiro(neural_net_results)"
   ]
  },
  {
   "cell_type": "markdown",
   "metadata": {},
   "source": [
    "If p-value >= alpha, then we can NOT REJECT the null hypothesis (H0), aka, the sample have a normal distribution."
   ]
  },
  {
   "cell_type": "markdown",
   "metadata": {},
   "source": [
    "# Anova teste"
   ]
  },
  {
   "cell_type": "code",
   "execution_count": 62,
   "metadata": {},
   "outputs": [],
   "source": [
    "from scipy.stats import f_oneway"
   ]
  },
  {
   "cell_type": "code",
   "execution_count": 63,
   "metadata": {},
   "outputs": [
    {
     "name": "stdout",
     "output_type": "stream",
     "text": [
      "H0 can be REJECTED. Aka, data is different or data mean is different.\n"
     ]
    }
   ],
   "source": [
    "p = f_oneway(dec_tree_results,random_f_results,knn_results,logistic_results,svm_results,neural_net_results)\n",
    "\n",
    "alpha = 0.05\n",
    "if p.pvalue <= alpha:\n",
    "    print('H0 can be REJECTED. Aka, data is different or data mean is different.')\n",
    "else:\n",
    "    print('H0 can be NOT REJECTED. Aka, data is the same or mean of groups are the same.')"
   ]
  },
  {
   "cell_type": "markdown",
   "metadata": {},
   "source": [
    "# Tukey teste"
   ]
  },
  {
   "cell_type": "code",
   "execution_count": 64,
   "metadata": {},
   "outputs": [],
   "source": [
    "from statsmodels.stats.multicomp import MultiComparison"
   ]
  },
  {
   "cell_type": "code",
   "execution_count": 65,
   "metadata": {},
   "outputs": [
    {
     "name": "stdout",
     "output_type": "stream",
     "text": [
      "    Multiple Comparison of Means - Tukey HSD, FWER=0.05     \n",
      "============================================================\n",
      "  group1     group2   meandiff p-adj   lower   upper  reject\n",
      "------------------------------------------------------------\n",
      "       knn   logistic   0.0027 0.5839 -0.0021  0.0075  False\n",
      "       knn neural_net   0.0029 0.5044 -0.0019  0.0077  False\n",
      "       knn   random_f  -0.0093    0.0  -0.014 -0.0045   True\n",
      "       knn        svm  -0.0097    0.0 -0.0145 -0.0049   True\n",
      "       knn       tree  -0.0134    0.0 -0.0182 -0.0086   True\n",
      "  logistic neural_net   0.0002    1.0 -0.0046   0.005  False\n",
      "  logistic   random_f  -0.0119    0.0 -0.0167 -0.0072   True\n",
      "  logistic        svm  -0.0124    0.0 -0.0172 -0.0076   True\n",
      "  logistic       tree  -0.0161    0.0 -0.0209 -0.0113   True\n",
      "neural_net   random_f  -0.0121    0.0 -0.0169 -0.0074   True\n",
      "neural_net        svm  -0.0126    0.0 -0.0174 -0.0078   True\n",
      "neural_net       tree  -0.0163    0.0 -0.0211 -0.0115   True\n",
      "  random_f        svm  -0.0004 0.9998 -0.0052  0.0043  False\n",
      "  random_f       tree  -0.0042 0.1275 -0.0089  0.0006  False\n",
      "       svm       tree  -0.0037 0.2248 -0.0085  0.0011  False\n",
      "------------------------------------------------------------\n"
     ]
    }
   ],
   "source": [
    "algorithm_results = {'accuracy': np.concatenate([dec_tree_results,random_f_results,knn_results,logistic_results,svm_results,neural_net_results]),\n",
    "                     'algorithm': \n",
    "                     ['tree','tree','tree','tree','tree','tree','tree','tree','tree','tree','tree','tree','tree','tree','tree','tree','tree','tree','tree','tree','tree','tree','tree','tree','tree','tree','tree','tree','tree','tree',\n",
    "                      'random_f','random_f','random_f','random_f','random_f','random_f','random_f','random_f','random_f','random_f','random_f','random_f','random_f','random_f','random_f','random_f','random_f','random_f','random_f','random_f','random_f','random_f','random_f','random_f','random_f','random_f','random_f','random_f','random_f','random_f',\n",
    "                      'knn','knn','knn','knn','knn','knn','knn','knn','knn','knn','knn','knn','knn','knn','knn','knn','knn','knn','knn','knn','knn','knn','knn','knn','knn','knn','knn','knn','knn','knn',\n",
    "                      'logistic','logistic','logistic','logistic','logistic','logistic','logistic','logistic','logistic','logistic','logistic','logistic','logistic','logistic','logistic','logistic','logistic','logistic','logistic','logistic','logistic','logistic','logistic','logistic','logistic','logistic','logistic','logistic','logistic','logistic',\n",
    "                      'svm','svm','svm','svm','svm','svm','svm','svm','svm','svm','svm','svm','svm','svm','svm','svm','svm','svm','svm','svm','svm','svm','svm','svm','svm','svm','svm','svm','svm','svm',\n",
    "                      'neural_net','neural_net','neural_net','neural_net','neural_net','neural_net','neural_net','neural_net','neural_net','neural_net','neural_net','neural_net','neural_net','neural_net','neural_net','neural_net','neural_net','neural_net','neural_net','neural_net','neural_net','neural_net','neural_net','neural_net','neural_net','neural_net','neural_net','neural_net','neural_net','neural_net']}\n",
    "\n",
    "algorithm_results_df = pd.DataFrame(algorithm_results)\n",
    "comparison = MultiComparison(algorithm_results_df['accuracy'],algorithm_results_df['algorithm'])\n",
    "\n",
    "tukey_test = comparison.tukeyhsd()\n",
    "print(tukey_test)"
   ]
  },
  {
   "cell_type": "code",
   "execution_count": 66,
   "metadata": {},
   "outputs": [
    {
     "data": {
      "image/png": "[encoded data removed]",
      "text/plain": [
       "<Figure size 1000x600 with 1 Axes>"
      ]
     },
     "metadata": {},
     "output_type": "display_data"
    }
   ],
   "source": [
    "tukey_test.plot_simultaneous();"
   ]
  }
 ],
 "metadata": {
  "kernelspec": {
   "display_name": "Python 3",
   "language": "python",
   "name": "python3"
  },
  "language_info": {
   "codemirror_mode": {
    "name": "ipython",
    "version": 3
   },
   "file_extension": ".py",
   "mimetype": "text/x-python",
   "name": "python",
   "nbconvert_exporter": "python",
   "pygments_lexer": "ipython3",
   "version": "3.11.0"
  }
 },
 "nbformat": 4,
 "nbformat_minor": 2
}
