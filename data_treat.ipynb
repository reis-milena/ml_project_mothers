{
 "cells": [
  {
   "cell_type": "code",
   "execution_count": 10,
   "metadata": {},
   "outputs": [],
   "source": [
    "import pandas as pd\n",
    "import numpy as np\n",
    "import seaborn as sns\n",
    "#import matplotlib.pyplot as plt\n",
    "#import plotly.express as px"
   ]
  },
  {
   "cell_type": "markdown",
   "metadata": {},
   "source": [
    "# Reading data"
   ]
  },
  {
   "cell_type": "code",
   "execution_count": 34,
   "metadata": {},
   "outputs": [
    {
     "name": "stderr",
     "output_type": "stream",
     "text": [
      "C:\\Users\\ville\\AppData\\Local\\Temp\\ipykernel_19812\\2755148528.py:1: DtypeWarning: Columns (1,4,5,9,10,11,12,13,14,15,16,17,18,19,20,108,113,372,374,377,378,379,380,381,382,383,384,385,386,387,388,389,405,406,407,408,688,692,860,861,864,865,866,867,868,869,870,871,934,936,950,981,997,1010,1013,1070,1140,1141,1142,1143,1144,1145,1146,1147,1168,1184,1221,1222,1224,1227,1244,1245,1251,1252,1256,1257,1258,1262,1263,1340,1350,1352) have mixed types. Specify dtype option on import or set low_memory=False.\n",
      "  data = pd.read_csv('C:\\\\Users\\\\ville\\\\Documents\\\\Dissertacao Mestrado\\\\Programas R\\\\Milena-lepes.csv' , encoding='latin-1')\n"
     ]
    },
    {
     "data": {
      "text/plain": [
       "(8278, 1354)"
      ]
     },
     "execution_count": 34,
     "metadata": {},
     "output_type": "execute_result"
    }
   ],
   "source": [
    "data = pd.read_csv('C:\\\\Users\\\\ville\\\\Documents\\\\Dissertacao Mestrado\\\\Programas R\\\\Milena-lepes.csv' , encoding='latin-1')\n",
    "data.shape"
   ]
  },
  {
   "cell_type": "markdown",
   "metadata": {},
   "source": [
    "Select mothers of both 1º questionnaire and 2º"
   ]
  },
  {
   "cell_type": "code",
   "execution_count": 45,
   "metadata": {},
   "outputs": [
    {
     "data": {
      "text/plain": [
       "chave               0\n",
       "gestante         6878\n",
       "codbarra           30\n",
       "pncidadep        6878\n",
       "pndataentp       6878\n",
       "                 ... \n",
       "tnaoinfluenza    8273\n",
       "thepatitea       8113\n",
       "tnaohepatite     8265\n",
       "tvaricela        7765\n",
       "seguimentow1        0\n",
       "Length: 1354, dtype: int64"
      ]
     },
     "execution_count": 45,
     "metadata": {},
     "output_type": "execute_result"
    }
   ],
   "source": [
    "data.isnull().sum()"
   ]
  },
  {
   "cell_type": "code",
   "execution_count": 44,
   "metadata": {},
   "outputs": [
    {
     "data": {
      "text/plain": [
       "gestante    6878\n",
       "tnomemae    4107\n",
       "dtype: int64"
      ]
     },
     "execution_count": 44,
     "metadata": {},
     "output_type": "execute_result"
    }
   ],
   "source": [
    "#ata.isnull().sum()\n",
    "pd.isnull(data[['gestante','tnomemae']]).sum()"
   ]
  },
  {
   "cell_type": "code",
   "execution_count": 51,
   "metadata": {},
   "outputs": [
    {
     "data": {
      "text/plain": [
       "(1079, 1354)"
      ]
     },
     "execution_count": 51,
     "metadata": {},
     "output_type": "execute_result"
    }
   ],
   "source": [
    "data.dropna(axis=0, subset=['gestante','tnomemae']).shape"
   ]
  },
  {
   "cell_type": "code",
   "execution_count": 131,
   "metadata": {},
   "outputs": [
    {
     "data": {
      "text/plain": [
       "(1400, 1354)"
      ]
     },
     "execution_count": 131,
     "metadata": {},
     "output_type": "execute_result"
    }
   ],
   "source": [
    "data_all1 = data.dropna(axis=0, subset=['gestante'])\n",
    "data_all1.shape"
   ]
  },
  {
   "cell_type": "markdown",
   "metadata": {},
   "source": [
    "1400 women participated on the first questionnaire, that was applied during pregnancy between February 2010 to February 2011 at Ribeirão Preto-SP.\n",
    "From these 1400, 1079 continued on the research and participated on the follow-up questionnaire.\n",
    "\n",
    "First we are goint to treat all data and than create the model with the 1079 women and apply the model for the rest of women, who did not attend to the follow-up research."
   ]
  },
  {
   "cell_type": "markdown",
   "metadata": {},
   "source": [
    "y: trabalhar com criança pequena\n",
    "\n",
    "x: educacao, raca, filhos antes, trabalhava antes, tem marido, todo trabalho domestico"
   ]
  },
  {
   "cell_type": "code",
   "execution_count": 132,
   "metadata": {},
   "outputs": [],
   "source": [
    "data_all1 = data_all1[['gestante','tnomemae','trabcasa','pnativremp','pnqtfilhosp','pnmorafilhop','pncursog','cormae','pnsitcong','tativrem']]"
   ]
  },
  {
   "cell_type": "code",
   "execution_count": 133,
   "metadata": {},
   "outputs": [
    {
     "data": {
      "text/plain": [
       "gestante          0\n",
       "tnomemae        321\n",
       "trabcasa         30\n",
       "pnativremp        0\n",
       "pnqtfilhosp       0\n",
       "pnmorafilhop      0\n",
       "pncursog          0\n",
       "cormae           30\n",
       "pnsitcong         0\n",
       "tativrem        323\n",
       "dtype: int64"
      ]
     },
     "execution_count": 133,
     "metadata": {},
     "output_type": "execute_result"
    }
   ],
   "source": [
    "pd.isnull(data_all1).sum()"
   ]
  },
  {
   "cell_type": "code",
   "execution_count": 134,
   "metadata": {},
   "outputs": [
    {
     "name": "stdout",
     "output_type": "stream",
     "text": [
      "trabcasa:\n",
      "(array([ 1.,  2.,  3., nan]), array([677, 583, 110,  30], dtype=int64))\n",
      "pnativremp:\n",
      "(array([1., 2., 9.]), array([665, 731,   4], dtype=int64))\n",
      "pnqtfilhosp:\n",
      "(array([ 1.,  2.,  3.,  4.,  5.,  6., 88., 99.]), array([409, 196,  52,  18,   1,   3, 716,   5], dtype=int64))\n",
      "pnmorafilhop:\n",
      "(array([1., 2., 9.]), array([683, 713,   4], dtype=int64))\n",
      "pncursog:\n",
      "(array([1., 2., 3., 4., 5., 8., 9.]), array([  5, 383, 892,  51,  63,   2,   4], dtype=int64))\n",
      "cormae:\n",
      "(array([ 1.,  2.,  3.,  4.,  9., nan]), array([700, 152, 500,   6,  12,  30], dtype=int64))\n",
      "pnsitcong:\n",
      "(array([1., 2., 3., 4., 9.]), array([500, 631, 239,  26,   4], dtype=int64))\n",
      "tativrem:\n",
      "(array([ 1.,  2., nan]), array([655, 422, 323], dtype=int64))\n"
     ]
    }
   ],
   "source": [
    "for variable in ['trabcasa','pnativremp','pnqtfilhosp','pnmorafilhop','pncursog','cormae','pnsitcong', #x\n",
    "                     'tativrem' #y\n",
    "                     ]:\n",
    "    print(f\"{variable}:\")\n",
    "    print(np.unique(data_all1[variable], return_counts=True))\n"
   ]
  },
  {
   "cell_type": "code",
   "execution_count": 135,
   "metadata": {},
   "outputs": [
    {
     "name": "stdout",
     "output_type": "stream",
     "text": [
      "(array([ 0.,  1., nan]), array([583, 677, 140], dtype=int64))\n"
     ]
    }
   ],
   "source": [
    "def all_housew(trabcasa):\n",
    "    if trabcasa == 1:\n",
    "        return 1\n",
    "    elif trabcasa == 2:\n",
    "        return 0\n",
    "    else:\n",
    "        return None\n",
    "\n",
    "\n",
    "data_all1['all_housew'] = data_all1['trabcasa'].apply(all_housew)\n",
    "print(np.unique(data_all1['all_housew'], return_counts=True))"
   ]
  },
  {
   "cell_type": "code",
   "execution_count": 136,
   "metadata": {},
   "outputs": [
    {
     "name": "stdout",
     "output_type": "stream",
     "text": [
      "(array([ 0.,  1., nan]), array([731, 665,   4], dtype=int64))\n"
     ]
    }
   ],
   "source": [
    "def work(pnativremp):\n",
    "    if pnativremp == 1:\n",
    "        return 1\n",
    "    elif pnativremp == 2:\n",
    "        return 0\n",
    "    else:\n",
    "        return None\n",
    "\n",
    "\n",
    "data_all1['work'] = data_all1['pnativremp'].apply(work)\n",
    "print(np.unique(data_all1['work'], return_counts=True))\n"
   ]
  },
  {
   "cell_type": "code",
   "execution_count": 137,
   "metadata": {},
   "outputs": [
    {
     "name": "stdout",
     "output_type": "stream",
     "text": [
      "(array([ 0.,  1., nan]), array([422, 655, 323], dtype=int64))\n"
     ]
    }
   ],
   "source": [
    "data_all1['work_after'] = data_all1['tativrem'].apply(work)\n",
    "print(np.unique(data_all1['work_after'], return_counts=True))"
   ]
  },
  {
   "cell_type": "code",
   "execution_count": 138,
   "metadata": {},
   "outputs": [
    {
     "name": "stdout",
     "output_type": "stream",
     "text": [
      "(array([ 0.,  1., nan]), array([ 265, 1131,    4], dtype=int64))\n"
     ]
    }
   ],
   "source": [
    "def married(pnsitcong):\n",
    "    if pnsitcong == 1 or pnsitcong == 2:\n",
    "        return 1\n",
    "    elif pnsitcong == 3 or pnsitcong == 4 or pnsitcong == 5:\n",
    "        return 0\n",
    "    else:\n",
    "        return None\n",
    "\n",
    "\n",
    "data_all1['married'] = data_all1['pnsitcong'].apply(married)\n",
    "print(np.unique(data_all1['married'], return_counts=True))"
   ]
  },
  {
   "cell_type": "code",
   "execution_count": 139,
   "metadata": {},
   "outputs": [
    {
     "name": "stdout",
     "output_type": "stream",
     "text": [
      "(array([ 1.,  2.,  3., nan]), array([388, 892, 114,   6], dtype=int64))\n"
     ]
    }
   ],
   "source": [
    "def education(pncursog):\n",
    "    if pncursog == 1 or pncursog == 2:   #elemntary school\n",
    "        return 1\n",
    "    elif pncursog == 3 :                 #high school\n",
    "        return 2\n",
    "    elif pncursog == 4 or pncursog == 5: #graduation or more\n",
    "        return 3\n",
    "    else:\n",
    "        return None\n",
    "\n",
    "\n",
    "data_all1['level_educat'] = data_all1['pncursog'].apply(education)\n",
    "print(np.unique(data_all1['level_educat'], return_counts=True))"
   ]
  },
  {
   "cell_type": "code",
   "execution_count": 140,
   "metadata": {},
   "outputs": [
    {
     "name": "stdout",
     "output_type": "stream",
     "text": [
      "(array([ 0.,  1., nan]), array([706, 652,  42], dtype=int64))\n"
     ]
    }
   ],
   "source": [
    "def black(cormae):\n",
    "    if cormae == 2 or cormae == 3:   \n",
    "        return 1\n",
    "    elif cormae == 1 or cormae == 4 or cormae == 5: \n",
    "        return 0\n",
    "    else:\n",
    "        return None\n",
    "\n",
    "\n",
    "data_all1['black'] = data_all1['cormae'].apply(black)\n",
    "print(np.unique(data_all1['black'], return_counts=True))"
   ]
  },
  {
   "cell_type": "code",
   "execution_count": 141,
   "metadata": {},
   "outputs": [
    {
     "name": "stdout",
     "output_type": "stream",
     "text": [
      "(array([ 0.,  1., nan]), array([710, 685,   5], dtype=int64))\n"
     ]
    }
   ],
   "source": [
    "def prev_child(pnqtfilhosp,pnmorafilhop):\n",
    "    if pnqtfilhosp < 88:   \n",
    "        return 1\n",
    "    elif pnqtfilhosp == 88 and pnmorafilhop == 2: \n",
    "        return 0\n",
    "    elif pnqtfilhosp == 88 and pnmorafilhop == 1: \n",
    "        return 1\n",
    "    else:\n",
    "        return None\n",
    "\n",
    "\n",
    "data_all1['previous_child'] = data_all1.apply(lambda x: prev_child(x['pnqtfilhosp'],x['pnmorafilhop']),axis =1 )\n",
    "print(np.unique(data_all1['previous_child'], return_counts=True))"
   ]
  },
  {
   "cell_type": "code",
   "execution_count": 142,
   "metadata": {},
   "outputs": [],
   "source": [
    "final_data = data_all1[['gestante','tnomemae','married','previous_child','black','level_educat','all_housew','work','work_after']]"
   ]
  },
  {
   "cell_type": "code",
   "execution_count": 143,
   "metadata": {},
   "outputs": [
    {
     "data": {
      "text/plain": [
       "gestante            0\n",
       "tnomemae          321\n",
       "married             4\n",
       "previous_child      5\n",
       "black              42\n",
       "level_educat        6\n",
       "all_housew        140\n",
       "work                4\n",
       "work_after        323\n",
       "dtype: int64"
      ]
     },
     "execution_count": 143,
     "metadata": {},
     "output_type": "execute_result"
    }
   ],
   "source": [
    "pd.isnull(final_data).sum()"
   ]
  },
  {
   "cell_type": "markdown",
   "metadata": {},
   "source": [
    "# Visualize data"
   ]
  },
  {
   "cell_type": "code",
   "execution_count": 144,
   "metadata": {},
   "outputs": [
    {
     "data": {
      "text/plain": [
       "<Axes: xlabel='work', ylabel='count'>"
      ]
     },
     "execution_count": 144,
     "metadata": {},
     "output_type": "execute_result"
    },
    {
     "data": {
      "image/png": "[encoded data removed]",
      "text/plain": [
       "<Figure size 640x480 with 1 Axes>"
      ]
     },
     "metadata": {},
     "output_type": "display_data"
    }
   ],
   "source": [
    "sns.countplot(x = final_data['work'])"
   ]
  },
  {
   "cell_type": "code",
   "execution_count": 145,
   "metadata": {},
   "outputs": [
    {
     "data": {
      "text/plain": [
       "<Axes: xlabel='work_after', ylabel='count'>"
      ]
     },
     "execution_count": 145,
     "metadata": {},
     "output_type": "execute_result"
    },
    {
     "data": {
      "image/png": "[encoded data removed]",
      "text/plain": [
       "<Figure size 640x480 with 1 Axes>"
      ]
     },
     "metadata": {},
     "output_type": "display_data"
    }
   ],
   "source": [
    "sns.countplot(x = final_data['work_after'])"
   ]
  },
  {
   "cell_type": "markdown",
   "metadata": {},
   "source": [
    "# Separate X variables from Y"
   ]
  },
  {
   "cell_type": "code",
   "execution_count": 191,
   "metadata": {},
   "outputs": [
    {
     "data": {
      "text/plain": [
       "(1079, 9)"
      ]
     },
     "execution_count": 191,
     "metadata": {},
     "output_type": "execute_result"
    }
   ],
   "source": [
    "data_train = final_data.dropna(axis=0, subset=['gestante','tnomemae'])\n",
    "data_train.shape"
   ]
  },
  {
   "cell_type": "code",
   "execution_count": 192,
   "metadata": {},
   "outputs": [
    {
     "data": {
      "text/plain": [
       "married            1\n",
       "previous_child     2\n",
       "black              8\n",
       "level_educat       2\n",
       "all_housew        88\n",
       "work               1\n",
       "work_after         2\n",
       "dtype: int64"
      ]
     },
     "execution_count": 192,
     "metadata": {},
     "output_type": "execute_result"
    }
   ],
   "source": [
    "pd.isnull(data_train.iloc[:,2:9]).sum() # missing on y variable #IT CAN'T HAPPEN"
   ]
  },
  {
   "cell_type": "code",
   "execution_count": 193,
   "metadata": {},
   "outputs": [
    {
     "data": {
      "text/plain": [
       "(979, 9)"
      ]
     },
     "execution_count": 193,
     "metadata": {},
     "output_type": "execute_result"
    }
   ],
   "source": [
    "data_train = data_train.dropna(axis=0, subset=['married','previous_child','black','level_educat','all_housew','work','work_after'])\n",
    "data_train.shape"
   ]
  },
  {
   "cell_type": "code",
   "execution_count": 166,
   "metadata": {},
   "outputs": [],
   "source": [
    "#data_train"
   ]
  },
  {
   "cell_type": "code",
   "execution_count": 194,
   "metadata": {},
   "outputs": [
    {
     "data": {
      "text/plain": [
       "array([[1., 1., 0., 2., 1., 1.],\n",
       "       [1., 1., 0., 2., 0., 1.],\n",
       "       [0., 0., 0., 2., 1., 0.],\n",
       "       ...,\n",
       "       [1., 0., 0., 3., 0., 1.],\n",
       "       [1., 0., 0., 2., 0., 0.],\n",
       "       [1., 1., 0., 1., 0., 1.]])"
      ]
     },
     "execution_count": 194,
     "metadata": {},
     "output_type": "execute_result"
    }
   ],
   "source": [
    "X_data_training = data_train.iloc[:,2:8].values\n",
    "X_data_training"
   ]
  },
  {
   "cell_type": "code",
   "execution_count": 196,
   "metadata": {},
   "outputs": [
    {
     "data": {
      "text/plain": [
       "array([1., 1., 1., 1., 0., 1., 0., 0., 1., 1., 0., 0., 0., 0., 1., 0., 0.,\n",
       "       1., 1., 0., 0., 1., 1., 1., 1., 0., 1., 0., 0., 1., 1., 1., 0., 0.,\n",
       "       1., 1., 1., 0., 1., 0., 1., 1., 1., 1., 1., 1., 0., 0., 1., 0., 0.,\n",
       "       1., 0., 1., 0., 0., 1., 0., 0., 1., 1., 0., 1., 1., 1., 1., 1., 0.,\n",
       "       1., 1., 1., 1., 1., 1., 1., 0., 1., 1., 1., 0., 0., 1., 1., 1., 1.,\n",
       "       1., 0., 1., 1., 1., 1., 1., 0., 0., 1., 1., 0., 1., 0., 0., 0., 0.,\n",
       "       1., 1., 1., 0., 1., 1., 0., 1., 1., 1., 1., 1., 1., 0., 0., 1., 1.,\n",
       "       0., 1., 0., 1., 0., 1., 1., 0., 1., 1., 1., 0., 0., 1., 0., 1., 1.,\n",
       "       1., 1., 1., 1., 0., 1., 1., 1., 1., 1., 1., 1., 1., 1., 0., 1., 1.,\n",
       "       1., 0., 1., 1., 1., 0., 1., 0., 0., 1., 1., 0., 1., 1., 1., 1., 1.,\n",
       "       0., 1., 1., 0., 0., 1., 0., 1., 0., 1., 1., 0., 1., 0., 1., 0., 1.,\n",
       "       0., 1., 0., 0., 0., 1., 1., 1., 0., 0., 0., 1., 1., 0., 0., 1., 1.,\n",
       "       0., 0., 1., 1., 1., 1., 0., 1., 1., 0., 1., 0., 1., 0., 0., 1., 1.,\n",
       "       0., 1., 1., 1., 0., 0., 1., 1., 0., 1., 1., 1., 0., 0., 1., 0., 1.,\n",
       "       0., 0., 0., 0., 0., 1., 0., 1., 1., 1., 1., 1., 0., 1., 1., 1., 1.,\n",
       "       1., 1., 0., 1., 1., 1., 0., 1., 1., 1., 1., 0., 0., 1., 1., 1., 1.,\n",
       "       1., 1., 1., 1., 0., 1., 1., 0., 0., 1., 1., 0., 1., 0., 1., 0., 1.,\n",
       "       0., 0., 1., 1., 1., 1., 1., 1., 1., 1., 0., 0., 1., 1., 1., 0., 1.,\n",
       "       1., 0., 0., 1., 1., 1., 0., 0., 1., 1., 1., 1., 0., 0., 0., 0., 1.,\n",
       "       1., 1., 0., 0., 0., 1., 1., 1., 0., 1., 0., 0., 1., 0., 1., 1., 0.,\n",
       "       0., 1., 0., 0., 1., 1., 1., 1., 1., 1., 1., 0., 0., 1., 1., 1., 0.,\n",
       "       0., 1., 1., 0., 1., 0., 1., 1., 0., 1., 1., 1., 1., 0., 1., 0., 1.,\n",
       "       1., 0., 1., 0., 0., 0., 1., 1., 1., 1., 1., 1., 1., 1., 0., 1., 1.,\n",
       "       1., 1., 1., 0., 1., 1., 0., 0., 0., 1., 0., 0., 1., 1., 1., 0., 1.,\n",
       "       1., 0., 0., 0., 1., 1., 1., 1., 0., 1., 1., 0., 1., 0., 1., 0., 1.,\n",
       "       1., 1., 1., 0., 1., 0., 1., 1., 1., 1., 1., 0., 1., 0., 1., 1., 1.,\n",
       "       1., 1., 1., 0., 1., 1., 0., 0., 0., 1., 1., 1., 1., 1., 0., 1., 1.,\n",
       "       1., 0., 0., 1., 0., 1., 1., 1., 0., 0., 0., 1., 1., 0., 1., 1., 1.,\n",
       "       0., 0., 0., 0., 1., 1., 1., 1., 1., 0., 0., 0., 1., 1., 1., 1., 1.,\n",
       "       0., 1., 1., 0., 0., 1., 1., 1., 0., 0., 1., 1., 1., 1., 1., 0., 0.,\n",
       "       1., 1., 1., 1., 0., 0., 1., 0., 1., 0., 1., 1., 0., 0., 0., 1., 1.,\n",
       "       1., 1., 0., 1., 0., 1., 0., 1., 0., 1., 0., 0., 1., 1., 1., 1., 0.,\n",
       "       0., 0., 1., 0., 0., 1., 1., 1., 0., 0., 0., 1., 0., 0., 1., 0., 1.,\n",
       "       0., 1., 1., 0., 0., 1., 1., 1., 1., 1., 0., 1., 1., 1., 0., 0., 0.,\n",
       "       0., 1., 1., 1., 1., 0., 1., 0., 0., 1., 1., 1., 0., 1., 0., 0., 0.,\n",
       "       0., 1., 1., 1., 1., 1., 1., 1., 1., 0., 1., 0., 0., 0., 1., 1., 1.,\n",
       "       1., 0., 1., 1., 1., 1., 1., 1., 1., 0., 0., 0., 1., 0., 0., 1., 0.,\n",
       "       0., 1., 0., 0., 1., 1., 0., 1., 0., 1., 1., 1., 1., 0., 0., 1., 0.,\n",
       "       0., 1., 1., 1., 0., 1., 1., 1., 0., 1., 0., 1., 0., 1., 1., 0., 0.,\n",
       "       1., 1., 1., 0., 0., 1., 0., 0., 1., 1., 0., 0., 0., 0., 0., 0., 1.,\n",
       "       1., 1., 0., 1., 1., 0., 1., 0., 0., 1., 1., 1., 0., 1., 1., 1., 0.,\n",
       "       0., 1., 0., 1., 1., 0., 1., 1., 0., 1., 0., 0., 0., 1., 1., 0., 1.,\n",
       "       1., 1., 0., 1., 0., 0., 1., 1., 0., 0., 1., 1., 1., 0., 1., 1., 1.,\n",
       "       1., 0., 1., 0., 1., 1., 0., 0., 0., 0., 0., 0., 0., 0., 1., 1., 1.,\n",
       "       1., 1., 1., 1., 0., 0., 1., 0., 0., 0., 1., 0., 0., 0., 0., 1., 1.,\n",
       "       1., 0., 1., 1., 0., 1., 1., 0., 0., 0., 1., 0., 1., 0., 0., 1., 1.,\n",
       "       1., 1., 0., 1., 0., 0., 0., 1., 0., 1., 1., 1., 0., 0., 0., 0., 1.,\n",
       "       1., 0., 1., 0., 1., 1., 1., 1., 0., 0., 1., 1., 0., 1., 1., 1., 0.,\n",
       "       0., 1., 0., 0., 0., 0., 0., 0., 1., 1., 0., 1., 0., 0., 1., 0., 0.,\n",
       "       1., 1., 1., 0., 0., 1., 0., 1., 0., 0., 1., 1., 1., 0., 1., 0., 1.,\n",
       "       1., 0., 0., 1., 1., 0., 1., 1., 1., 1., 1., 0., 0., 1., 1., 0., 1.,\n",
       "       1., 1., 1., 1., 0., 1., 0., 1., 0., 1., 1., 1., 1., 0., 0., 0., 1.,\n",
       "       1., 1., 1., 1., 1., 1., 1., 0., 1., 1., 1., 1., 1., 0., 0., 1., 1.,\n",
       "       1., 0., 1., 1., 1., 1., 0., 0., 1., 0., 0., 1., 1., 0., 1., 0., 1.,\n",
       "       1., 0., 1., 1., 1., 1., 1., 1., 1., 1., 0., 1., 1., 0., 1., 1., 1.,\n",
       "       0., 0., 0., 0., 1., 1., 1., 1., 1., 1., 1., 0., 1., 0., 0., 0., 1.,\n",
       "       1., 1., 0., 1., 1., 1., 0., 1., 0., 0., 1., 1., 1., 1., 1., 1., 1.,\n",
       "       0., 0., 1., 0., 1., 0., 1., 1., 0., 0.])"
      ]
     },
     "execution_count": 196,
     "metadata": {},
     "output_type": "execute_result"
    }
   ],
   "source": [
    "Y_data_training = data_train.iloc[:,8].values\n",
    "Y_data_training"
   ]
  },
  {
   "cell_type": "code",
   "execution_count": 165,
   "metadata": {},
   "outputs": [],
   "source": [
    "#final_data[final_data['tnomemae'].isnull()]"
   ]
  },
  {
   "cell_type": "code",
   "execution_count": 201,
   "metadata": {},
   "outputs": [
    {
     "data": {
      "text/plain": [
       "(321, 9)"
      ]
     },
     "execution_count": 201,
     "metadata": {},
     "output_type": "execute_result"
    }
   ],
   "source": [
    "data_predict = final_data[final_data['tnomemae'].isnull()]\n",
    "data_predict.shape"
   ]
  },
  {
   "cell_type": "code",
   "execution_count": 202,
   "metadata": {},
   "outputs": [
    {
     "data": {
      "text/plain": [
       "married            3\n",
       "previous_child     3\n",
       "black             34\n",
       "level_educat       4\n",
       "all_housew        52\n",
       "work               3\n",
       "dtype: int64"
      ]
     },
     "execution_count": 202,
     "metadata": {},
     "output_type": "execute_result"
    }
   ],
   "source": [
    "pd.isnull(data_predict.iloc[:,2:8]).sum()"
   ]
  },
  {
   "cell_type": "code",
   "execution_count": 203,
   "metadata": {},
   "outputs": [
    {
     "data": {
      "text/plain": [
       "(264, 9)"
      ]
     },
     "execution_count": 203,
     "metadata": {},
     "output_type": "execute_result"
    }
   ],
   "source": [
    "data_predict = data_predict.dropna(axis=0, subset=['married','previous_child','black','level_educat','all_housew','work'])\n",
    "data_predict.shape"
   ]
  },
  {
   "cell_type": "code",
   "execution_count": 204,
   "metadata": {},
   "outputs": [
    {
     "data": {
      "text/plain": [
       "array([[0., 0., 0., 2., 0., 0.],\n",
       "       [1., 1., 0., 2., 0., 0.],\n",
       "       [1., 0., 1., 2., 1., 1.],\n",
       "       ...,\n",
       "       [0., 1., 0., 2., 0., 1.],\n",
       "       [1., 1., 1., 2., 1., 1.],\n",
       "       [1., 1., 0., 1., 1., 0.]])"
      ]
     },
     "execution_count": 204,
     "metadata": {},
     "output_type": "execute_result"
    }
   ],
   "source": [
    "X_data_predict = data_predict.iloc[:,2:8].values\n",
    "X_data_predict"
   ]
  },
  {
   "cell_type": "markdown",
   "metadata": {},
   "source": [
    "# Writting/saving data"
   ]
  },
  {
   "cell_type": "code",
   "execution_count": 170,
   "metadata": {},
   "outputs": [],
   "source": [
    "import pickle"
   ]
  },
  {
   "cell_type": "code",
   "execution_count": 205,
   "metadata": {},
   "outputs": [],
   "source": [
    "with open('data_mothers.pkl', mode = 'wb') as f:\n",
    "    pickle.dump([X_data_training, Y_data_training, X_data_predict], f)"
   ]
  }
 ],
 "metadata": {
  "kernelspec": {
   "display_name": "Python 3",
   "language": "python",
   "name": "python3"
  },
  "language_info": {
   "codemirror_mode": {
    "name": "ipython",
    "version": 3
   },
   "file_extension": ".py",
   "mimetype": "text/x-python",
   "name": "python",
   "nbconvert_exporter": "python",
   "pygments_lexer": "ipython3",
   "version": "3.11.0"
  }
 },
 "nbformat": 4,
 "nbformat_minor": 2
}
